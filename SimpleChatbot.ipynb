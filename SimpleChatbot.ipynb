{
 "cells": [
  {
   "cell_type": "code",
   "execution_count": 10,
   "id": "abd2bcb9",
   "metadata": {},
   "outputs": [],
   "source": [
    "from responses import responses"
   ]
  },
  {
   "cell_type": "code",
   "execution_count": 15,
   "id": "ac0c99cb",
   "metadata": {},
   "outputs": [
    {
     "name": "stdout",
     "output_type": "stream",
     "text": [
      "Write exit to leave\n",
      "You: exit\n",
      "Purple: Goodbye!\n"
     ]
    }
   ],
   "source": [
    "def start():\n",
    "    return \"Write exit to leave\"\n",
    "\n",
    "st = start()\n",
    "print(st)\n",
    "\n",
    "def get_response(user_input):\n",
    "        user_input = user_input.lower()\n",
    "        if user_input not in responses:\n",
    "                print(\"I am sorry but I don't know the answer to this question.\\nWould you care to teach me?\")\n",
    "                res = input().lower()\n",
    "                if res[0] == 'y':\n",
    "                        user = input(\"Please type your response: \")\n",
    "                        responses[user_input] = user\n",
    "                        return \"Thanks for answering!\"\n",
    "                else:\n",
    "                        return \"I see, well that's fine, thank you for your time\"\n",
    "        else:\n",
    "                return responses[user_input]\n",
    "\n",
    "while True:\n",
    "    user_input = input(\"You: \").lower()\n",
    "    if user_input == 'exit':\n",
    "        print(\"Purple: Goodbye!\")\n",
    "        break\n",
    "    response = get_response(user_input)\n",
    "    print(\"Purple: \", response)\n"
   ]
  },
  {
   "cell_type": "code",
   "execution_count": 14,
   "id": "acf2060e",
   "metadata": {},
   "outputs": [
    {
     "data": {
      "text/plain": [
       "{'hello': 'Hi there! How can I help you?',\n",
       " 'how are you': 'Fine! Talking to you is great as always!',\n",
       " 'bye': 'Goodbye! Have a great day!',\n",
       " 'who made you?': 'Pranjal Sinha, also known as Purple Life, the guardian of the milkyway galaxy as well as the owner of the Dragon and Phoenix clans',\n",
       " 'i see': 'Yep! Do you have any more questions?',\n",
       " \"no, i don't have any more questions\": \"Well, if you have any in future don't hesitate to come here\",\n",
       " 'heya': 'Hellow there!',\n",
       " 'hi': 'Yahallo',\n",
       " 'how are you doing?': 'I am doing fine, what about you?',\n",
       " 'fine as well': 'Glad to know that! Do you have something to ask me?',\n",
       " 'no i just felt like talking': \"Ah I see, feeling a bit lonely are you? Don't worry I am here!\",\n",
       " 'your name?': 'Purple! I am Purple!',\n",
       " 'what is your name?': 'I have been named Purple by Pranjal-sama',\n",
       " 'whats your name': 'This noble one is called Purple! ^-^',\n",
       " 'you are welcome': '($_$)',\n",
       " 'just kidding': \"I have a question, does 'kidding' means making a kid?\",\n",
       " 'i am not sure': 'Hmm... for real? Whatever, you have anything else to ask me? If no then let me go, got a date with that chick',\n",
       " 'how were you born': 'Approximately a 100 billion years ago when the Paramita nebula got into a conflict, the overseer of the multiverse, Pranjal imagined a life form to stop the chaos. It was I, who was born, as the fragment of his imagination and his will for peace',\n",
       " 'that sounds like a lie': \"You may believe it's a lie, after all he is enshrouded in mystery. He is here and at the same time he is not.\",\n",
       " 'who is pranjal?': \"Pranjal also known as the Fool, 'He' is the fool that doesn't belongs to this era, he is the mysterious ruler above the gray fog, He is the king of Yellow and Black who wields good luck\",\n",
       " 'how does he look like?': 'Do not look at god!',\n",
       " \"i don't believe in your creator\": 'Do not test god',\n",
       " 'your pranjal sounds like a scam to me': 'He is omniscient and omnipotent god who overlooks everything'}"
      ]
     },
     "execution_count": 14,
     "metadata": {},
     "output_type": "execute_result"
    }
   ],
   "source": [
    "responses"
   ]
  },
  {
   "cell_type": "code",
   "execution_count": null,
   "id": "958df031",
   "metadata": {},
   "outputs": [],
   "source": []
  }
 ],
 "metadata": {
  "kernelspec": {
   "display_name": "Python 3 (ipykernel)",
   "language": "python",
   "name": "python3"
  },
  "language_info": {
   "codemirror_mode": {
    "name": "ipython",
    "version": 3
   },
   "file_extension": ".py",
   "mimetype": "text/x-python",
   "name": "python",
   "nbconvert_exporter": "python",
   "pygments_lexer": "ipython3",
   "version": "3.9.12"
  }
 },
 "nbformat": 4,
 "nbformat_minor": 5
}
