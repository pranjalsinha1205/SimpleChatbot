{
 "cells": [
  {
   "cell_type": "code",
   "execution_count": 1,
   "id": "0d287514",
   "metadata": {},
   "outputs": [],
   "source": [
    "responses = {'hello': 'Hi there! How can I help you?',\n",
    " 'how are you': 'Fine! Talking to you is great as always!',\n",
    " 'bye': 'Goodbye! Have a great day!',\n",
    " 'who made you?': 'Pranjal Sinha, also known as Purple Life, the guardian of the milkyway galaxy as well as the owner of the Dragon and Phoenix clans',\n",
    " 'i see': 'Yep! Do you have any more questions?',\n",
    " \"no, i don't have any more questions\": \"Well, if you have any in future don't hesitate to come here\",\n",
    " 'heya': 'Hellow there!'}\n"
   ]
  }
 ],
 "metadata": {
  "kernelspec": {
   "display_name": "Python 3 (ipykernel)",
   "language": "python",
   "name": "python3"
  },
  "language_info": {
   "codemirror_mode": {
    "name": "ipython",
    "version": 3
   },
   "file_extension": ".py",
   "mimetype": "text/x-python",
   "name": "python",
   "nbconvert_exporter": "python",
   "pygments_lexer": "ipython3",
   "version": "3.9.12"
  }
 },
 "nbformat": 4,
 "nbformat_minor": 5
}
